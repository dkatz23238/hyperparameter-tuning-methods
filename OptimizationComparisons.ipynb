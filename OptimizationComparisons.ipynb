{
 "cells": [
  {
   "cell_type": "code",
   "execution_count": 47,
   "metadata": {},
   "outputs": [],
   "source": [
    "import numpy as np\n",
    "import matplotlib.pyplot as plt\n",
    "from sklearn.datasets import load_digits \n",
    "\n",
    "from sklearn.model_selection import train_test_split, GridSearchCV, RandomizedSearchCV\n",
    "from sklearn.ensemble import RandomForestClassifier\n",
    "from ax.utils.notebook.plotting import render, init_notebook_plotting\n",
    "# Dont do this\n",
    "import warnings\n",
    "\n",
    "\n",
    "warnings.filterwarnings('ignore')"
   ]
  },
  {
   "cell_type": "code",
   "execution_count": 77,
   "metadata": {},
   "outputs": [
    {
     "data": {
      "text/html": [
       "<img src=\"https://dudeperf3ct.github.io/images/mnist_cnn_files/mnist_cnn_keras_20_0.png\" width=\"2000\" height=\"500\"/>"
      ],
      "text/plain": [
       "<IPython.core.display.Image object>"
      ]
     },
     "execution_count": 77,
     "metadata": {},
     "output_type": "execute_result"
    }
   ],
   "source": [
    "mnistimg=\"https://dudeperf3ct.github.io/images/mnist_cnn_files/mnist_cnn_keras_20_0.png\"\n",
    "from IPython.display import Image\n",
    "from IPython.core.display import HTML \n",
    "Image(url= mnistimg,\n",
    "     height=500, width=2000)"
   ]
  },
  {
   "cell_type": "code",
   "execution_count": 78,
   "metadata": {},
   "outputs": [
    {
     "name": "stdout",
     "output_type": "stream",
     "text": [
      "Score: 0.9422222222222222\n"
     ]
    }
   ],
   "source": [
    "X = load_digits()[\"data\"]\n",
    "Y = load_digits()[\"target\"]\n",
    "# Split for validation\n",
    "X_train, X_test, y_train, y_test = train_test_split(X,Y)\n",
    "# No tuning\n",
    "model = RandomForestClassifier()\n",
    "model.fit(X_train, y_train)\n",
    "score = model.score(X_test, y_test)\n",
    "print(\"Score: %s\" % score)"
   ]
  },
  {
   "cell_type": "code",
   "execution_count": 67,
   "metadata": {},
   "outputs": [
    {
     "data": {
      "text/html": [
       "<img src=\"http://colonialamerica.thinkport.org/interactives/coordinate-grids-slideshow/images/CoordinateGrid_s3.jpg\" width=\"300\" height=\"100\"/>"
      ],
      "text/plain": [
       "<IPython.core.display.Image object>"
      ]
     },
     "execution_count": 67,
     "metadata": {},
     "output_type": "execute_result"
    }
   ],
   "source": [
    "from IPython.display import Image\n",
    "from IPython.core.display import HTML \n",
    "Image(url= \"http://colonialamerica.thinkport.org/interactives/coordinate-grids-slideshow/images/CoordinateGrid_s3.jpg\",\n",
    "     height=100, width=300)"
   ]
  },
  {
   "cell_type": "markdown",
   "metadata": {},
   "source": [
    "## GridSearch\n",
    "\n",
    "[logo] : https://upload.wikimedia.org/wikipedia/commons/thumb/c/c3/Python-logo-notext.svg/1024px-Python-logo-notext.svg.png\n",
    "\n",
    "\n",
    "Loop through a grid within the hyperparameter space and evaluate objective. Pick the best result:\n",
    "\n",
    "\n",
    "## Pros\n",
    "\n",
    "- First widely used method for hyper parameter tuning\n",
    "- Good for quick checks\n",
    "- Samples from hyperparameter space without really knowing if its an important hyper to tune\n",
    "\n",
    "## Cons\n",
    "\n",
    "- Very slow and inefficient\n",
    "- There are better options such as random search"
   ]
  },
  {
   "cell_type": "code",
   "execution_count": 79,
   "metadata": {},
   "outputs": [
    {
     "name": "stdout",
     "output_type": "stream",
     "text": [
      "0.9333333333333333\n",
      "0.9444444444444444\n",
      "0.9422222222222222\n",
      "0.9422222222222222\n",
      "0.9244444444444444\n",
      "0.9444444444444444\n",
      "0.9444444444444444\n",
      "0.9355555555555556\n",
      "3.84 s ± 79 ms per loop (mean ± std. dev. of 7 runs, 1 loop each)\n"
     ]
    }
   ],
   "source": [
    "%%timeit\n",
    "parameters = {'n_estimators':[10,50,100], 'max_depth':[2,5]}\n",
    "clf = RandomForestClassifier(n_jobs=-1)\n",
    "# Tune with GridSearch\n",
    "opt = GridSearchCV(clf, param_grid=parameters, cv=2)\n",
    "opt.fit(X_train,y_train)\n",
    "print(opt.score(X_test,y_test))"
   ]
  },
  {
   "cell_type": "code",
   "execution_count": 69,
   "metadata": {},
   "outputs": [
    {
     "data": {
      "text/html": [
       "<img src=\"data:image/png;base64,iVBORw0KGgoAAAANSUhEUgAAAVMAAACUCAMAAAAZDzr+AAABp1BMVEX////9/f3+/v4AAAAymDJ6enqJiYn29vYyMjLIyMgMDAyurq7Pz89WVlYzmzPk5OSTk5MnJycfHx/w8PAqKirDw8O6uroJAAnz8/OoqKgZGRkgICC2trbW1tbe3t7p6el2dnZqamqEhIRSUlKZmZkAFAAhZyAADgDLqI05OTlDQ0P/+vIABgAoKQBdXV1ubm6ef2oibyP96tn///Kkoyl5mramyecjcyEAIgAPMA6ehn7v+v+rsr7VtZgbWRvP5eV4dRymwNf217QAHQAVPhIshCsZGADf7/r34sv37crN5fMjIgDixKaWlSSBgyLIxzQ/PwCokpJeXxOYsc68qZy7nI2xrixvbRnCuK/S5/mKjpfXy79nWlqyz9ndv6/D1eqZo52WmqpUUQ5yfYYlJRGbmyasoJgPDhxQWGS/mnWYttOslY0nJh6ao69zZGB7eYLv18Q5NgBfb3zk69ydkqS+0MxzaXmuoY1tf5iahYWduL+inpKhj3uZeXDMy7rn2c5id5OinqxZVW2Dc18JNgZ+XF1rWWXW1sGviGZ8eY0TTBNibWI7UDo94fxmAAAYnUlEQVR4nO2di18ax9rHZ3YCCwtkgQXKcltu3kAhYjRR0ISIkRqTplFTg1VqbTxNrNE0PWk8uZjT9pyc+L5/9DuzN1a5GXdBzvvhMbW4DMtvvzwzz8zsMwMAfetb3/rWt771rW996wWjoeYPSvpNXY6UOoOwXkkjbb2iV7LcXvSgSB6k7ZjtxPoT8nir2Bsic9+azfuLp4+lbfm6cunVapcUncfKr4swR2iCr7ex1omZKXJ0eLIZ03S4m7S//mMRlg+WTis4WKwrl7421ewUkfrSnbb/PBcZ0TQHaUBxr7RMaVaApGHwU2mWw/+D+N/ym0XY8oSGGmYKJt4XgcDmAaQ5jgKQO8ZM06wfQL8fy+NENRJTyLF5yk/hiwGc+AL8KDdT9HdPr2gT/xKdYOLaweSnN3D217exGtOJ1eRMcXaFKlc+mZLRavpoKX0Qeffz2brYSfv63wXfu8nFQ+fbN4vLvzq/n0q/23n7x+LhwdudJ7kXlT93kn9OEqgS0zIu9urgCVgrLu+8fZNfnqRmV7Ze7BS76ATECNPDZGHi2iT4+uPxwdKZun/nY+5gabiAFd95I7xfSr9evDNZ35p1zjDT3z+SN0y/f7L8Jj87ufwxnztgj6pgefLVwVL59ZPyZ/IRK3Ufyx9eyX3+hF15eGUWM52c2Ot+S/uf5yD94SNBiZl+zmuZUhvOdx/h2j+Owu+X8LOR90sTXWf6xyKp+rnd5PdV4naTmFPuAH/2+DPGbQAGqmWKi714Xq6srnz9OY+hz06Cy2Fa/r4IyjLTVy+quRcyU7+fzmGCH/NlXLueTcLZSe5fS/gS77zJ091TR9rTOx8Xnz2feC8xLb9eLP8hvFtJr03mTjOl/XB4cuLac7D289LE+yl8BPN/Njnxrurvct0nH66pUkzjLlSuQB3Gk7zUlzKbzdvcajy5DyeuVXHLGsedgtkKv5+f2KsstTulgeL+iWvF6uZhvFJZPCxSh0WwFcci0qumQj5ny+cK5B8gfSksuHh8VElWsQdD3EGMF6nc0T6PX2AqdrNmARLaWTbCqqZ5qPx5XAkrT0i/IkL3elN0va5II6HKc/iwsLqiFIjIqrsc+FlTG3uR2jl7iO9eXQq3k1dviZ/rDtm7pvd81mhw2NMGu9569q1vfetb3/rWt8sxGLZarWz3Qj/VWesBmQDyjCsVsHhbncQonXrFUuc4QQ/IBGFPxue1WRxCi7MYpVOnWDzeCjltbOszXL5MCiQDsajTZ3bZe54poPnU6ChKRFqe4lJlSi9lHWholImZXdYeZwpAJINKNxbGB1pDvUyZgAslQ0LIglBpsIRcI62EGqXzwmKJBJ9l/saVq1eu3BhwtKr+lygT2BPIxXiY0o3S6MnJPIr5e5sp9Ln/Wrgi2vhAlG5+lsuTCfwZjzOZQjcXri6URtHAdDDUy0wB4P9WWrgqMb06iGyw6WkuTyawus0+x+j0wDgWunBjYeEvT4vKb5TOC4rFXsozJ1dkpNhOPM1b/8uTCUIuZ2LoZG5gUFR69erCfIzruM4LiBUTfKDtq5MrGluYzzQVezkyxXe2Bi1DJ+Mnop+KNoj4phXKKJ1fLpZkHOCKfxrplavjo85mYi9FpvTOrAXH+7mB6QVNhWraRTVK5xmxbcUDOplIZa08U9JUfNHmvmpW+42XqehUU8yavDGXHZgfHULTN2qf/cK0o1mFMkrnaUUAhpNOb4sQTkEzSjk8wYAanmpi/1J6qWcv0nCZOJ77nElryMyzgPY6k/YzNUQuDDgTGlwYnBtc0OocR0660Tk7xjTJoABq1YxbUdTnjaL5s0gJVJQVe3+AilhZqs75jZTJZVCQQciFLD4TCjAoSZ96O84eJtj8WTSI49LVugrFA7/dHraG7XauvpIaLBYTy/C2OErWTYmpJZxBm88UmB9YOIuUtP9DcQwVCNkAE4hrJisMlwnNTNw2wjBOPoXfKWSLuX21EgDy+KmEFQixocEGKq9eOXGZUwyDRTLMiI02XmdNLHlgtti8Xm8mIdB+IWy3Wr1eazgi0LQ6+wScHj76Vak0Wu+nxAOQmQO0iYk6Y0y8Vh8NlUnOxo3EfHwgEcj6nCiVTCbN7pg9HOHkFGQvkzDHR0Z8MdQIKbaFEvJ4mCByM54Rl69jTAHJJ4xYHSPxuCmbYkZcX6GaBVJZpy0siK2QDXlGS4PTNxv56VUMNRaxBuJeqzfKsFoKBskU8zSFSCiQiWeYkUDAE9DI/MrjMPNeVnAkQlafk0ED442R4tiPGMaRQqlMwJyKQbUCGKVTNr897rAEmFE0NDAwgAZO5gYHx29INj44d/LX/BDjScSy0YwFofmT6WYecGXwZnCEiZlMpgyK+yK0XBsNMnwiIRRNuHADirBKhG6WponWuZOh0o1xrLN0c2DUPcKMZBwpN5pu9LFLVpqeRsEACiYwWRdvFzQ11TizxgIDf80Njg8OzZ/MleSWXWNXFhbGMdmbN/+aGy/ND9ysK1ArODeNRoeGBvCnM+rKWo29V0FmFm+ezI2Pn4yW5ubR6MnczYGh0uBgCffppVi0cGPwZGB0fn66NHTSRCIuVpo+GRoYQqNYJEJDgVRSMFSm+NnHEZrGnomNAEED0mOtjROTHmC3nTt1WDHZrwdvzpdKpflpXO7m9P/wNpuNNUZqmM8gzJK879wA/sgQIVK6SdBMa/QMTg+VTk5KuK8/2EzmycD00Dw+xcDo9PzJIK6F/2vGMr0GOQDpxEcRbl6YryRjGPkx0mmjo2IzQix0QXGaZBysMzJCdGplSlJ16hzClQr7LLaErow0Qc0RxKO36F3ksDYyr2Q+2UKi2RTja4Yjb9KJzRzHEc5kikaj2WwsFstgczgSKWS7oMzDooapNzHEmJurVGSGfKdlNtBpVnVmFZ0OrNOij+lwseYCcXT/ZVbPyZoZHnPhdh8CO2O94BnK31d4JZeZG3n44KeLOnwTk8clUDTK5tCVkjwcM1UW5dMm7z5+mYXiuSUI8o/yt/Tr7EHFlINnTdJLfutgCiPhsLzsgvInHj3FTKHRVlOsk+mhubquMPUxT7+UKaxRbPiaUwd1MM3trmxU5eEGiD683wmmqullerQ+tVaVtdqDD3qV6ZatcLgiNVIQOMfu/+LrYabLf+7s52WmYVeHmFL6/XTm1x15iQAEybEHPc00zUYE2PtM8Wg5kv8vYZreqwp72rof7cm6n95aEWY1dd9IpuI5jWS68aKSLCgxyhu4f4opBajWTMWI3pKpdBLdfpq7tpNMqnU//vL+L16DmFJACIcFpRdlCFNwbBdYJZ6GRq9rmEpzVFQLpkC6ZdGCqYgAAP11Px2OKKMTCmYfGsaUDCAYlPBBLVS9TNdmptaeyEz5occvowofEDF5XNkwaM4UCHFLMKPeeapnSgHObHE7vFA/00Pz5NZzud2nHY8MYwq8DHK5EHPqdHqZ7u0Wv30iPzaPPR5TmAI2hQIBJCcVNWIKhAwpoaZy1TMFXFQsEQK6mS4nt1dlpoBLfWcUU4qOIovF4kFRWuOoepmW3+1UlRuO2YePx0wKHydykTeL002Z8lIJJe+oAVMfcmPFKOUHuuv+qmlfmZlgLQ+eBq2GMAWcg8EKLUxC0JxPL1MgRJQsbJh4pDIFdEZ9s8ZMARQ/YkvAwjZlGhdLBJmIfqa7TrMy3rf/cv+pyximFB0TJWLHMNBPhytJZf8CwXJbw1R6M0ZKKWnYnpokpimhKVMn8uAS7gCrm+nhiqDOoIXuXb9vkJ9CEEIBjyfAhIyMUatP1If486/VfYpHQYvFhZLavtXpui/WbBcy0U2ZWpkAaR0ytG6mOTOvzks5Xz6+b5CfYkc1I4QYM20k09lYfFv2U37seo0poLNkcjbGgWZxH4hyUIJtGqMomBRLhPXHqMN9dV4KOn785qyfSk9cCCoVttki0ND+6WpVub0MTA8fa2IU4EImk01o0ZeiaF88yrPN+6cYu9csldDLtLxttctMOc/ts0wB5w15hQt6LjkndfqITqbPdpxye4pD1Dcaphi09F+rPj8F2/X5oVhKN9OcLxSSWyk7c/8MU5L3jpAjYtRwVS9TyIblyQny+WuZUu3HppqDzcemtYM6mII02elINB+6fpopRSdwr86FHKxBUHW3p3HTjuQA7N8efPP4XrwVn0uc6zNHo1NSG2W7e4YpsJJwagkGjJpX0cv021uF1VNMQQeY6vfTrc31dXkcxdcx9ZHBB+5f2NowJZ8J1bqIIUw3FmfluC/W/c74qQHtabUcl/tSdXUfhMXhmjvQZryKI5nN6z+HL+uP+0AZRuE+Ss/W/XIxr9zeDeP6dKY9zSK3x42iXEteIJxhEJMJt/dU3XH/Z7PSP03eu967TL/fMcvzEnTqx28enI77bBTH/SzbkhbFOVDQExR73B1mCqG6s2nE9aBn21PARZQ+P+DvXX9wpn8KI/YIbFPzfYwUydrPaOm+H7VuKyg3ehKPOsTU0LgP7K77Z5hCqdvXBpQ4+eBi2kUyA+akf6g4lSF/9OH1e+be9FMc9z8o86eC5fZZpucw4JX81N15P929tXuk3ONzjj3tDFMD/LQW98mc9AWYkmk9twtHMn/bIKWXac66W1Tu7yfvdYipAe3psTcsuynJ7bkAUzyCjbqZYDTS+bg/vL1ey5fqXablA9uMktp3QaYQ+O1eO92N/ukTZQqVAuaxp3d7tO6L+0XKsfRidR92bxw1fGCOxuUNzOMvr/cq07LJbDJtS1CFkYvEqC8wI/qnSg/V9LBDTA1oT7FIqCvud5GpxqgsZursTT/VmmB58F/DFMZ+7GWmajo32+tMxZ31GzMlx1ozlUu0YArUk+hjmlvCXVRZZ8Tz4LbRTMXrN4hpeq/K7cnjKJjRMsV1zOtlW+VLUUCweiOweW4PyUSx+sQSOpmSHLQZZRxlPFNKvFZ1dGtAXp9yf/8UUwqEUgyT4umm901J+laAGVHXIdczpSi7I8B4nJzu+6bprYKaf2o8UwqSax3hlRvSuuekbbaCepP3UY0pvn7kcjHIq+F1mimIWFAQl7DBZkxJzlXQFUBO/feiwUbIpkxLhH+5byxTYHWRaw0oawR0z6EUrPbavNT1IZkpgCZxGkfOhmrI1CyWYBJc05wJXirhEnTnTCxvW63KXJ/dcKZZKcEnIzuq7j5/rVLB1Hc1pj2WL1XeDqt133qGKTjf6KipUTDBSFlK8nS1XqZbPK/UfRozHVWZRuXPrpWfitRb5EslRT8NBPX7ac5Wy+3x/vT0uxpTHEvtkfOM4psbkBPRHAb5KfALnJLXOXJbZUr2mWA8ngDyNW9Pw0HGhUsoGwo1YBpJIVLCrL8vlV5POhWmvp+u15hSdDyAUMKuByrwkith1Nlq3X4aN+2oeX0PakwpmLQg5Ek2j/sAhkYYFIxzzeM+9KYYJO7doZfp4T+Su8rXEYXu1ZiSlKyAK4hSrW9GtTaK5i04Iif9BsX92v19Mj6pMSX3eEKhMGyVLwVYX8hOt+yfsj6bWEI30+LWjLzuBNg0TLEjkLbQhXsfOvwUkCsJQ4P6p5r7+4D1aJkqg6vmTOHpjXlbjKP0M4V0OqzEKNvY4xrTcCAotoVOeGFHBYItaRM0gU4vUw6mlYCK+9LX0ReO99WDLV+jvz09rEL8rwFT1hMQc1D4i3tpOEESOq1Gjk3ZmerFmXZpri937VezqdiAKQ5RyO3BXfYLJ/WRpR4kgy0lGOWn4pozHX7apXkp6rjKKd0TwvRRLe5zUTdCKe/Fa75XbD1cqJbBZkBuj2K4PX3ao0xBWfNdqryWKQSc1eY7k+j8RUxDjJTBFjKsPX32qzqH0jmm+tvT8vfk28kaMZUi5UWJksG+m7TIbmQ1zE/T67zS9pN1R73qp+kNXmmizjJtbeKbtyyAW+RAMKBddaa7z19YV/tSPcw0t+/dVfzU9gVMAfTT7RKpBLMl4ImzhsV98O0ikPeZIPfOerbubxXBHbXPP3b9UfB8g1Fgz46kzG1WT5D8e1YLXvd+KE6nsugQj/fv9yrT3G5S/SpKPDY9J1PK6ibbd2aENtUfnJ7Z0r82Uh2f0KnvOsRUf90Hx+q0FJmXOh9Tyh8jE2PBLx246s6X2q0o985g4lHP+mn5gD/SrDc9H1MgiIMsCzLRX9TV0j3PX3x1VLvH17N+Kub21O7xnZepRWIa7y7T1aqwt8lJj00PH/Ssn0bNph25gyKM3P7Rda66T0fJihQ38n0JUQP6UkmeT26KrTRI3utZpsTPaOlCSa7k+ZhCMimOLd4+5dRQpsc2Xt1jJjR0u1frPh6aKEGKgrEfz8kUAjYZNYW+EKkB902Vm2cUsP7yqFf9VLsuGsRfPmzCtG7MBBod7DTT5X2vVd0HzfLjKaZUe6ZUW6aUIUxz//R5VabOsZcNmUorhtth7jzTNQ1TYeQl0s7zU23XRYM266IppYRuP61omNp+GmvElApHUylnm/59N5iuFpX7phTgUmM1pmTtvdlHt7ofBa1Oc4hrcT8KQLszTvYA0M20vB8RaIWp76d7DZiCcAoxDIpedB2/cUy3krV90DjHXZUp6YeQxXEt9pmATlLC0WqfCd6ofSbw2FSZ64O43b9bzxSHLmnQxF8y09zSsd0uD04pisvUmAIbWRgbbLUfihcFyPx4vPl+KHYX48ElYnr3Q0mHObvdrtZ9+y9D9UwBK3fwo1Bv7dfN1OfzKu2pxk/JdihSHkrTfXvkzJ1W+/bIeShuvfv2pMOC1+dThnvYTxsxFXqEKZZr99rVGJW6hzqQL+U2IF8KHFtrMcrXsO5TMWnQdNl1n8T9mp+y2rgv74NmarsPWqb5PmghcQMIhuR26Y776n4oJO43jlHknjIytV/33G5Rj5FxP2KpMSXZpWSvPXuL/foSKOBGAW/TuA+EmFjCpj9GlfdZoban7L3GfamIMxPjz9GXAn67Ndxi9l933Hcq+/acZopHAFGLJ2anmvelAGuyuDJeqnncB0J8xOXwQf19qVzS6VTjfhOmEFB0fZ+/QTG7g0wCNO9z6WMqRCLqdn1n6j4FaJb1t87nJyUoxRr1+XGJCEfp7p+msUw1/RQCvnGfH55v0ATYBHJ5gi0mAPUx3SDfuLTSIEaJXqZsBtt0bCq1Sy2YyifRy5T0TtV7JxCE7jaIUec2wIuLzgOWpqkrBqyPWlXWmnMZ1KtzKNjK6n7SdjfSw1TKmQ+6m55CH1Oaw6bs0U3BeIeY6vVTSGQuq0zZEV1MeTHxpGN+upqNRqPK+n3SO+pNPy3PYJkVpX+Kx3u6mLIke9vdsfaU9vv9ysvJNROm0veRqT/KF5ZQlPpQ+6TG2r/mwn6Kdapb4eCLNuthimXgNo4Rs7ebFDBsvSnZStIirmUi563zOentxMCq9T7pKDzXa4xZwyttfKYrgZ+z+uwtbvvp/V6empGrjqGEuYOWRcYwjTAo20mdjoRha80pYCVfUNVBc3KGyITJzso01X+ra9/61re+9a1v/+8tbc23L3TpBtVV6P8NljuoV3tcOxRuRTxt79bnkZ5Zqj8WVh/mIq1e3PIaOmG5z3nvemG9kN8I7S+m1/eXjq2+P7cXD/lq2rpePP6TzGbnQviv9f3FnNe6wVfpDVtho5DP7RY+vS7Q+JXH3mr799Fn6Zlbx+sFK7947OOXwEYSi/OuHlSPdws0Pu7/nXxJTtprK0KsL+f1HvP4enyFDRu+osKnmf38Mb+EVXarR5r7/Opo89rm2tRacXZlduW4Mvtmca1K+Y/jkaNbR0t7S1jInTefDhb9syvLH/P+Vwfho1szxbXNtf2Zv/92a7by+8qzyY47Ama6Vhxe2cIKN95sbAt7H14vfdrO0/53m2ubv08tk9z68udbM1W6/Bt+ik7vVa9tDuPSs5W9f3y7lIvbKr+/6VrzgZn+tri2NDu1Vi1vr01NHK0WwXAVrNsOIv/Mr1VXiZA7kxMzf7f9Prm8Qo6HK/Te0uzmu4L91W/54X374lrH3ZQwXV2aLR6uzD7PVVZXwNruNvx6G2zYZjaxlinxa5HL2/nhzXXb5w+TEB+fIte0vIL1sd8ulSv28NbzjqtUTGX6rDJTPDx4O7mMmVZuvU++Dlcw02GSZHvn17dvPuy8w0wnZn54bSdMh4vL+/ytmf0PFb7aHaZ7EtOdt5O5o2Tlw3a+fLD5rvJngTAtHxQpUD744XN45gfMNL1WMWGmw5jpoZPfXNuO7PKF1e4xpWiAfygI1op4oM4JEEKQFvJpwU+eodLkWzzvTAp5IHC0+BQNxfKQlPULwC/QdBfaKZqixfmk2RUsKM3msThK8GOVkGjBD7GfVm75gXgEF5COk/unAsTXAAUOXsL4fuNJ06e0K0Ev2Q6b14lcoed6ha2w9QxSQLWQ0p9o6lvf+ta3vvWtb19q/wdm7Rq6/jroRAAAAABJRU5ErkJggg==\" width=\"500\" height=\"100\"/>"
      ],
      "text/plain": [
       "<IPython.core.display.Image object>"
      ]
     },
     "execution_count": 69,
     "metadata": {},
     "output_type": "execute_result"
    }
   ],
   "source": [
    "from IPython.display import Image\n",
    "from IPython.core.display import HTML \n",
    "Image(url= \"data:image/png;base64,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\",\n",
    "     height=100, width=500)"
   ]
  },
  {
   "cell_type": "markdown",
   "metadata": {},
   "source": [
    "## RandomSearch\n",
    "\n",
    "The Grid Search algorithm can be very slow, owing to the potentially huge number of combinations to test. Furthermore, cross validation further increases the execution time and complexity.\n",
    "\n",
    "Rather RS creates a range to randomly sample from using a uniform distribution\n",
    "\n",
    "\n",
    "James Bergstra Yoshua Bengio (2012)\n",
    "\n",
    "\n",
    "\"(...) Compared with deep belief networks configured by a thoughtful combination of\n",
    "manual search and grid search, purely random search over the same 32-dimensional configuration\n",
    "space found statistically equal performance on four of seven data sets, and superior performance\n",
    "on one of seven. A Gaussian process analysis of the function from hyper-parameters to validation\n",
    "set performance reveals that for most data sets only a few of the hyper-parameters really matter,\n",
    "but that different hyper-parameters are important on different data sets.\"\n",
    "\n",
    "## Pros\n",
    "\n",
    "- Adds randomness to a grid style search to more intelligently search hyperparameter space\n",
    "- Given same resources will optimize it can find better results than a grid search\n",
    "\n",
    "## Cons\n",
    "\n",
    "- Will usually perform worst than Bayesian optimization as it only adds randomness to search and does not model distribution and take paths based on marginal probabilities\n",
    "- Does not guarantee global minima"
   ]
  },
  {
   "cell_type": "code",
   "execution_count": 80,
   "metadata": {},
   "outputs": [
    {
     "name": "stdout",
     "output_type": "stream",
     "text": [
      "Best Score: 0.9733333333333334 \n",
      "Best Score: 0.9733333333333334 \n",
      "Best Score: 0.9666666666666667 \n",
      "Best Score: 0.9466666666666667 \n",
      "Best Score: 0.9644444444444444 \n",
      "Best Score: 0.9733333333333334 \n",
      "Best Score: 0.9688888888888889 \n",
      "Best Score: 0.9733333333333334 \n",
      "17.1 s ± 1.62 s per loop (mean ± std. dev. of 7 runs, 1 loop each)\n"
     ]
    }
   ],
   "source": [
    "%%timeit\n",
    "parameters = {'n_estimators':[10,50,100,200], 'max_depth':[2,4,5,10], 'min_samples_split':[2,4,6]}\n",
    "clf = RandomForestClassifier(n_jobs=-1)\n",
    "# Tune with RandomSearch\n",
    "opt = RandomizedSearchCV(clf, param_distributions=parameters, cv=5)\n",
    "opt.fit(X_train,y_train)\n",
    "print(\"Best Score: %s \" % opt.score(X_test,y_test))"
   ]
  },
  {
   "cell_type": "code",
   "execution_count": 71,
   "metadata": {},
   "outputs": [
    {
     "data": {
      "text/html": [
       "<img src=\"https://cdn-images-1.medium.com/max/1600/1*LB-G6WBuswEfpg20FMighA.png\" width=\"600\" height=\"100\"/>"
      ],
      "text/plain": [
       "<IPython.core.display.Image object>"
      ]
     },
     "execution_count": 71,
     "metadata": {},
     "output_type": "execute_result"
    }
   ],
   "source": [
    "from IPython.display import Image\n",
    "from IPython.core.display import HTML \n",
    "Image(url= \"https://cdn-images-1.medium.com/max/1600/1*LB-G6WBuswEfpg20FMighA.png\",\n",
    "     height=100, width=600)"
   ]
  },
  {
   "cell_type": "markdown",
   "metadata": {},
   "source": [
    "## Bayesian Opt\n",
    "\n",
    "Using Bayesian Optimization and modeling our problem as a minimization of an objective function over a set of hyperparameters we can make better educated guesses during each iteration of our optimization process. Can deal with noise and is suitable for \"black-box\" hyper parameter optimization.\n",
    "\n",
    "The approach is better than random search because it models your objective as a GP of your hyperparameters. Improvements in GP algo's have made BO more accesbile\n",
    "\n",
    "## Pros\n",
    "\n",
    "- Better scaling with parameter dimensionality\n",
    "- Reduced number of experiments\n",
    "- Better experiment outcomes\n",
    "- Understand the parameter space\n",
    "- f(x) first and second derivatives can't be observed\n",
    "- Probability models with all its benefits\n",
    "\n",
    "## Cons\n",
    "\n",
    "- Hyperparameter space should be less than 20\n",
    "- Objective function is cont (multi arm bandit for other)\n",
    "- Slow. If closed source solution exists then there are better approaches"
   ]
  },
  {
   "cell_type": "code",
   "execution_count": 55,
   "metadata": {},
   "outputs": [],
   "source": [
    "\n",
    "from ax.service.ax_client import AxClient\n",
    "import ax.storage as axst\n",
    "from sklearn.metrics import log_loss\n",
    "\n",
    "def train_and_score(parameters):\n",
    "    X_train, X_test, y_train, y_test = train_test_split(X,Y)\n",
    "    clf = RandomForestClassifier(n_estimators=parameters[\"n_estimators\"],\n",
    "                                 max_depth=parameters[\"max_depth\"],\n",
    "                                min_samples_leaf=parameters[\"min_samples_leaf\"])\n",
    "    \n",
    "    clf.fit(X_train, y_train)\n",
    "    return clf.score(X_test, y_test)\n",
    "\n",
    "\n",
    "ax_client = AxClient()\n"
   ]
  },
  {
   "cell_type": "code",
   "execution_count": 56,
   "metadata": {},
   "outputs": [
    {
     "name": "stderr",
     "output_type": "stream",
     "text": [
      "[INFO 05-16 12:19:01] ax.service.utils.dispatch: Using Bayesian Optimization generation strategy. Iterations after 5 will take longer to generate due to model-fitting.\n"
     ]
    }
   ],
   "source": [
    "ax_client.create_experiment(\n",
    "    name=\"RandomForest_MNIST\",\n",
    "    parameters=[\n",
    "        {\n",
    "            \"name\": \"n_estimators\",\n",
    "            \"type\": \"range\",\n",
    "            \"bounds\": [2, 200],\n",
    "            \"value_type\": \"int\",\n",
    "        },\n",
    "        {\n",
    "            \"name\": \"max_depth\",\n",
    "            \"type\": \"range\",\n",
    "            \"bounds\": [1, 10.0],\n",
    "            \"value_type\": \"int\",\n",
    "        },\n",
    "\n",
    "        {\n",
    "            \"name\":\"min_samples_leaf\",\n",
    "            \"type\":\"range\",\n",
    "            \"bounds\":[1,20],\n",
    "            \"value_type\":\"int\"\n",
    "        }\n",
    "    ],\n",
    "    objective_name=\"accuracy\",\n",
    "    minimize=False,\n",
    ")\n",
    "\n",
    "N_TRIALS = 15\n",
    "\n",
    "for _ in range(N_TRIALS):\n",
    "    parameters, trial_index = ax_client.get_next_trial()\n",
    "    ax_client.complete_trial(trial_index=trial_index, raw_data=train_and_score(parameters))\n",
    "\n",
    "experiment = ax_client.experiment\n",
    "axst.json_store.save(experiment=experiment,filepath= \"./experiment.json\")\n",
    "best_parameters, metrics = ax_client.get_best_parameters()\n"
   ]
  },
  {
   "cell_type": "code",
   "execution_count": 72,
   "metadata": {
    "scrolled": true
   },
   "outputs": [
    {
     "data": {
      "text/html": [
       "<script type='text/javascript'>/*\n",
       " * Copyright (c) Facebook, Inc. and its affiliates. All Rights Reserved.\n",
       " */\n",
       "\n",
       "requirejs.config({\n",
       "  paths: {\n",
       "    plotly: ['https://cdn.plot.ly/plotly-latest.min'],\n",
       "  },\n",
       "});\n",
       "if (!window.Plotly) {\n",
       "  require(['plotly'], function(plotly) {\n",
       "    window.Plotly = plotly;\n",
       "  });\n",
       "}\n",
       "/*\n",
       " * Copyright (c) Facebook, Inc. and its affiliates. All Rights Reserved.\n",
       " */\n",
       "\n",
       "// helper functions used across multiple plots\n",
       "function rgb(rgb_array) {\n",
       "  return 'rgb(' + rgb_array.join() + ')';\n",
       "}\n",
       "\n",
       "function copy_and_reverse(arr) {\n",
       "  const copy = arr.slice();\n",
       "  copy.reverse();\n",
       "  return copy;\n",
       "}\n",
       "\n",
       "function axis_range(grid, is_log) {\n",
       "  return is_log ?\n",
       "    [Math.log10(Math.min(...grid)), Math.log10(Math.max(...grid))]:\n",
       "    [Math.min(...grid), Math.max(...grid)];\n",
       "}\n",
       "\n",
       "function relativize_data(f, sd, rel, arm_data, metric) {\n",
       "  // if relative, extract status quo & compute ratio\n",
       "  const f_final = rel === true ? [] : f;\n",
       "  const sd_final = rel === true ? []: sd;\n",
       "\n",
       "  if (rel === true) {\n",
       "    const f_sq = (\n",
       "      arm_data['in_sample'][arm_data['status_quo_name']]['y'][metric]\n",
       "    );\n",
       "    const sd_sq = (\n",
       "      arm_data['in_sample'][arm_data['status_quo_name']]['se'][metric]\n",
       "    );\n",
       "\n",
       "    for (let i = 0; i < f.length; i++) {\n",
       "      res = relativize(f[i], sd[i], f_sq, sd_sq);\n",
       "      f_final.push(100 * res[0]);\n",
       "      sd_final.push(100 * res[1]);\n",
       "    }\n",
       "  }\n",
       "\n",
       "  return [f_final, sd_final];\n",
       "}\n",
       "\n",
       "function relativize(m_t, sem_t, m_c, sem_c) {\n",
       "  r_hat = (\n",
       "    (m_t - m_c) / Math.abs(m_c) -\n",
       "    Math.pow(sem_c, 2) * m_t / Math.pow(Math.abs(m_c), 3)\n",
       "  );\n",
       "  variance = (\n",
       "    (Math.pow(sem_t, 2) + Math.pow((m_t / m_c * sem_c), 2)) /\n",
       "    Math.pow(m_c, 2)\n",
       "   )\n",
       "   return [r_hat, Math.sqrt(variance)];\n",
       "}\n",
       "</script>"
      ]
     },
     "metadata": {},
     "output_type": "display_data"
    },
    {
     "name": "stderr",
     "output_type": "stream",
     "text": [
      "[INFO 05-16 12:48:40] ipy_plotting: Injecting Plotly library into cell. Do not overwrite or delete cell.\n"
     ]
    },
    {
     "data": {
      "text/plain": [
       "[<matplotlib.lines.Line2D at 0x7feb92a689b0>]"
      ]
     },
     "execution_count": 72,
     "metadata": {},
     "output_type": "execute_result"
    },
    {
     "data": {
      "image/png": "[encoded data removed]",
      "text/plain": [
       "<Figure size 1440x288 with 1 Axes>"
      ]
     },
     "metadata": {},
     "output_type": "display_data"
    }
   ],
   "source": [
    "from ax.plot.trace import optimization_trace_single_method\n",
    "plt.style.use(\"ggplot\")\n",
    "init_notebook_plotting()\n",
    "best_objectives = np.array([[trial.objective_mean*100 for trial in experiment.trials.values()]])\n",
    "obj = list(np.maximum.accumulate(best_objectives, axis=1)[0])\n",
    "plt.figure(figsize=(20,4))\n",
    "plt.title(\"Model performance vs. # of iterations\")\n",
    "plt.plot(range(len(obj)), obj, linewidth=10)"
   ]
  },
  {
   "cell_type": "code",
   "execution_count": null,
   "metadata": {},
   "outputs": [],
   "source": []
  }
 ],
 "metadata": {
  "kernelspec": {
   "display_name": "Python 3",
   "language": "python",
   "name": "python3"
  },
  "language_info": {
   "codemirror_mode": {
    "name": "ipython",
    "version": 3
   },
   "file_extension": ".py",
   "mimetype": "text/x-python",
   "name": "python",
   "nbconvert_exporter": "python",
   "pygments_lexer": "ipython3",
   "version": "3.7.3"
  }
 },
 "nbformat": 4,
 "nbformat_minor": 2
}
