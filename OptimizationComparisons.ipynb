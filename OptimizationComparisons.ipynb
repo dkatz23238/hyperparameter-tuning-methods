{
 "cells": [
  {
   "cell_type": "markdown",
   "metadata": {
    "slideshow": {
     "slide_type": "slide"
    }
   },
   "source": [
    "# Tuning Parameters with Thomas Bayes"
   ]
  },
  {
   "cell_type": "code",
   "execution_count": 56,
   "metadata": {
    "slideshow": {
     "slide_type": "slide"
    }
   },
   "outputs": [],
   "source": [
    "import numpy as np\n",
    "import matplotlib.pyplot as plt\n",
    "from sklearn.datasets import load_digits \n",
    "\n",
    "from sklearn.model_selection import train_test_split, GridSearchCV, RandomizedSearchCV\n",
    "from sklearn.ensemble import RandomForestClassifier\n",
    "from ax.utils.notebook.plotting import render, init_notebook_plotting\n",
    "# Dont do this\n",
    "import warnings\n",
    "\n",
    "\n",
    "warnings.filterwarnings('ignore')"
   ]
  },
  {
   "cell_type": "code",
   "execution_count": 57,
   "metadata": {
    "slideshow": {
     "slide_type": "slide"
    }
   },
   "outputs": [
    {
     "data": {
      "text/html": [
       "<img src=\"https://dudeperf3ct.github.io/images/mnist_cnn_files/mnist_cnn_keras_20_0.png\" width=\"2000\" height=\"500\"/>"
      ],
      "text/plain": [
       "<IPython.core.display.Image object>"
      ]
     },
     "execution_count": 57,
     "metadata": {},
     "output_type": "execute_result"
    }
   ],
   "source": [
    "mnistimg=\"https://dudeperf3ct.github.io/images/mnist_cnn_files/mnist_cnn_keras_20_0.png\"\n",
    "from IPython.display import Image\n",
    "from IPython.core.display import HTML \n",
    "Image(url= mnistimg,\n",
    "     height=500, width=2000)"
   ]
  },
  {
   "cell_type": "code",
   "execution_count": 58,
   "metadata": {
    "slideshow": {
     "slide_type": "slide"
    }
   },
   "outputs": [
    {
     "name": "stdout",
     "output_type": "stream",
     "text": [
      "Score: 0.8911111111111111\n"
     ]
    }
   ],
   "source": [
    "X = load_digits()[\"data\"]\n",
    "Y = load_digits()[\"target\"]\n",
    "# Split for validation\n",
    "X_train, X_test, y_train, y_test = train_test_split(X,Y)\n",
    "# No tuning\n",
    "model = RandomForestClassifier(n_estimators=5)\n",
    "model.fit(X_train, y_train)\n",
    "score = model.score(X_test, y_test)\n",
    "print(\"Score: %s\" % score)"
   ]
  },
  {
   "cell_type": "code",
   "execution_count": 25,
   "metadata": {
    "slideshow": {
     "slide_type": "slide"
    }
   },
   "outputs": [
    {
     "data": {
      "text/html": [
       "<img src=\"http://colonialamerica.thinkport.org/interactives/coordinate-grids-slideshow/images/CoordinateGrid_s3.jpg\" width=\"400\" height=\"100\"/>"
      ],
      "text/plain": [
       "<IPython.core.display.Image object>"
      ]
     },
     "execution_count": 25,
     "metadata": {},
     "output_type": "execute_result"
    }
   ],
   "source": [
    "from IPython.display import Image\n",
    "from IPython.core.display import HTML \n",
    "Image(url= \"http://colonialamerica.thinkport.org/interactives/coordinate-grids-slideshow/images/CoordinateGrid_s3.jpg\",\n",
    "     height=100, width=400)"
   ]
  },
  {
   "cell_type": "markdown",
   "metadata": {
    "slideshow": {
     "slide_type": "slide"
    }
   },
   "source": [
    "## GridSearch\n",
    "Loop through a grid within the hyperparameter space and evaluate objective. Pick the best result:\n",
    "\n"
   ]
  },
  {
   "cell_type": "markdown",
   "metadata": {
    "slideshow": {
     "slide_type": "subslide"
    }
   },
   "source": [
    "## Pros\n",
    "\n",
    "- Guarantees best parameters amongst the space given\n",
    "- First used method\n",
    "\n",
    "## Cons\n",
    "\n",
    "- Very slow and inefficient\n",
    "- There are better options such as random search"
   ]
  },
  {
   "cell_type": "code",
   "execution_count": 50,
   "metadata": {
    "slideshow": {
     "slide_type": "slide"
    }
   },
   "outputs": [
    {
     "name": "stdout",
     "output_type": "stream",
     "text": [
      "0.98\n"
     ]
    }
   ],
   "source": [
    "# %%timeit\n",
    "parameters = {'n_estimators':[10,50,100, 200, 300], 'max_depth':[2,5, 6,10]}\n",
    "clf = RandomForestClassifier(n_jobs=-1)\n",
    "# Tune with GridSearch\n",
    "opt = GridSearchCV(clf, param_grid=parameters, cv=2, verbose=False)\n",
    "opt.fit(X_train,y_train)\n",
    "print(opt.score(X_test,y_test))"
   ]
  },
  {
   "cell_type": "code",
   "execution_count": 6,
   "metadata": {
    "slideshow": {
     "slide_type": "slide"
    }
   },
   "outputs": [
    {
     "data": {
      "text/html": [
       "<img src=\"https://analyticsindiamag.com/wp-content/uploads/2018/06/both.png\" width=\"700\" height=\"100\"/>"
      ],
      "text/plain": [
       "<IPython.core.display.Image object>"
      ]
     },
     "execution_count": 6,
     "metadata": {},
     "output_type": "execute_result"
    }
   ],
   "source": [
    "from IPython.display import Image\n",
    "from IPython.core.display import HTML \n",
    "Image(url= \"https://analyticsindiamag.com/wp-content/uploads/2018/06/both.png\",\n",
    "     height=100, width=700)"
   ]
  },
  {
   "cell_type": "markdown",
   "metadata": {
    "slideshow": {
     "slide_type": "slide"
    }
   },
   "source": [
    "## RandomSearch\n",
    "\n",
    "The Grid Search algorithm can be very slow, owing to the potentially huge number of combinations to test. Furthermore, cross validation further increases the execution time and complexity.\n",
    "\n",
    "Rather RS creates a range to randomly sample from using a uniform distribution\n",
    "\n",
    "\n",
    "James Bergstra Yoshua Bengio (2012)\n",
    "\n",
    "\n",
    "\"(...) Compared with deep belief networks configured by a thoughtful combination of\n",
    "manual search and grid search, purely random search over the same 32-dimensional configuration\n",
    "space found statistically equal performance on four of seven data sets, and superior performance\n",
    "on one of seven. A Gaussian process analysis of the function from hyper-parameters to validation\n",
    "set performance reveals that for most data sets only a few of the hyper-parameters really matter,\n",
    "but that different hyper-parameters are important on different data sets.\"\n"
   ]
  },
  {
   "cell_type": "markdown",
   "metadata": {
    "slideshow": {
     "slide_type": "subslide"
    }
   },
   "source": [
    "## Pros\n",
    "\n",
    "- Adds randomness to a grid style search to more intelligently search hyperparameter space\n",
    "- Given same resources will optimize it can find better results than a grid search\n",
    "\n",
    "## Cons\n",
    "\n",
    "- Will usually perform worst than Bayesian optimization as it only adds randomness to search and does not model distribution and take paths based on marginal probabilities\n",
    "- Does not guarantee global minima"
   ]
  },
  {
   "cell_type": "code",
   "execution_count": 51,
   "metadata": {
    "slideshow": {
     "slide_type": "slide"
    }
   },
   "outputs": [
    {
     "name": "stdout",
     "output_type": "stream",
     "text": [
      "Best Score: 0.98 \n",
      "Best Score: 0.9466666666666667 \n",
      "Best Score: 0.9777777777777777 \n",
      "Best Score: 0.9511111111111111 \n",
      "Best Score: 0.98 \n",
      "Best Score: 0.9777777777777777 \n",
      "Best Score: 0.9333333333333333 \n",
      "Best Score: 0.9777777777777777 \n",
      "17.3 s ± 989 ms per loop (mean ± std. dev. of 7 runs, 1 loop each)\n"
     ]
    }
   ],
   "source": [
    "%%timeit\n",
    "parameters = {'n_estimators':[10,50,100,200], 'max_depth':[2,4,5,10], 'min_samples_split':[2,4,6]}\n",
    "clf = RandomForestClassifier(n_jobs=-1)\n",
    "# Tune with RandomSearch\n",
    "opt = RandomizedSearchCV(clf, param_distributions=parameters, cv=5)\n",
    "opt.fit(X_train,y_train)\n",
    "print(\"Best Score: %s \" % opt.score(X_test,y_test))"
   ]
  },
  {
   "cell_type": "code",
   "execution_count": 8,
   "metadata": {
    "slideshow": {
     "slide_type": "slide"
    }
   },
   "outputs": [
    {
     "data": {
      "text/html": [
       "<img src=\"https://cdn-images-1.medium.com/max/1600/1*LB-G6WBuswEfpg20FMighA.png\" width=\"600\" height=\"100\"/>"
      ],
      "text/plain": [
       "<IPython.core.display.Image object>"
      ]
     },
     "execution_count": 8,
     "metadata": {},
     "output_type": "execute_result"
    }
   ],
   "source": [
    "from IPython.display import Image\n",
    "from IPython.core.display import HTML \n",
    "Image(url= \"https://cdn-images-1.medium.com/max/1600/1*LB-G6WBuswEfpg20FMighA.png\",\n",
    "     height=100, width=600)"
   ]
  },
  {
   "cell_type": "markdown",
   "metadata": {
    "slideshow": {
     "slide_type": "slide"
    }
   },
   "source": [
    "## Bayesian Opt\n",
    "\n",
    "Using Bayesian Optimization and modeling our problem as a minimization of an objective function over a set of hyperparameters we can make better educated guesses during each iteration of our optimization process. Can deal with noise and is suitable for \"black-box\" hyper parameter optimization.\n",
    "The approach is better than random search because it models your objective as a GP of your hyperparameters. Improvements in GP algo's have made BO more accesbile\n",
    "\n"
   ]
  },
  {
   "cell_type": "markdown",
   "metadata": {
    "slideshow": {
     "slide_type": "subslide"
    }
   },
   "source": [
    "## Pros\n",
    "\n",
    "- Better scaling with parameter dimensionality\n",
    "- Reduced number of experiments\n",
    "- Better experiment outcomes\n",
    "- Understand the parameter space\n",
    "- f(x) first and second derivatives can't be observed\n",
    "- Probability models with all its benefits\n",
    "\n",
    "## Cons\n",
    "\n",
    "- Hyperparameter space should be less than 20\n",
    "- Objective function is cont (multi arm bandit for other)\n",
    "- Slow. If closed source solution exists then there are better approaches"
   ]
  },
  {
   "cell_type": "code",
   "execution_count": 52,
   "metadata": {
    "slideshow": {
     "slide_type": "slide"
    }
   },
   "outputs": [],
   "source": [
    "from ax.service.ax_client import AxClient\n",
    "import ax.storage as axst\n",
    "from sklearn.metrics import log_loss\n",
    "\n",
    "def train_and_score(parameters):\n",
    "    X_train, X_test, y_train, y_test = train_test_split(X,Y)\n",
    "    clf = RandomForestClassifier(n_estimators=parameters[\"n_estimators\"],\n",
    "                                 max_depth=parameters[\"max_depth\"],\n",
    "                                min_samples_leaf=parameters[\"min_samples_leaf\"])    \n",
    "    clf.fit(X_train, y_train)\n",
    "    \n",
    "    return log_loss(y_test, clf.predict_proba(X_test))\n",
    "\n",
    "\n",
    "ax_client = AxClient()\n"
   ]
  },
  {
   "cell_type": "code",
   "execution_count": 53,
   "metadata": {
    "slideshow": {
     "slide_type": "slide"
    }
   },
   "outputs": [
    {
     "name": "stderr",
     "output_type": "stream",
     "text": [
      "[INFO 05-22 19:54:03] ax.service.utils.dispatch: Using Bayesian Optimization generation strategy. Iterations after 5 will take longer to generate due to model-fitting.\n"
     ]
    }
   ],
   "source": [
    "ax_client.create_experiment(\n",
    "    name=\"RandomForest_MNIST\",\n",
    "    parameters=[\n",
    "        {\n",
    "            \"name\": \"n_estimators\",\n",
    "            \"type\": \"range\",\n",
    "            \"bounds\": [2, 200],\n",
    "            \"value_type\": \"int\",\n",
    "        },\n",
    "        {\n",
    "            \"name\": \"max_depth\",\n",
    "            \"type\": \"range\",\n",
    "            \"bounds\": [1, 10.0],\n",
    "            \"value_type\": \"int\",\n",
    "        },\n",
    "\n",
    "        {\n",
    "            \"name\":\"min_samples_leaf\",\n",
    "            \"type\":\"range\",\n",
    "            \"bounds\":[1,20],\n",
    "            \"value_type\":\"int\"\n",
    "        }\n",
    "    ],\n",
    "    objective_name=\"accuracy\",\n",
    "    minimize=False,\n",
    ")\n"
   ]
  },
  {
   "cell_type": "code",
   "execution_count": 54,
   "metadata": {
    "slideshow": {
     "slide_type": "slide"
    }
   },
   "outputs": [],
   "source": [
    "N_TRIALS = 15\n",
    "\n",
    "for _ in range(N_TRIALS):\n",
    "    parameters, trial_index = ax_client.get_next_trial()\n",
    "    ax_client.complete_trial(trial_index=trial_index, raw_data=train_and_score(parameters))\n",
    "\n",
    "experiment = ax_client.experiment\n",
    "axst.json_store.save(experiment=experiment,filepath= \"./experiment.json\")\n",
    "best_parameters, metrics = ax_client.get_best_parameters()"
   ]
  },
  {
   "cell_type": "code",
   "execution_count": 12,
   "metadata": {
    "scrolled": true,
    "slideshow": {
     "slide_type": "slide"
    }
   },
   "outputs": [
    {
     "data": {
      "text/html": [
       "<script type='text/javascript'>/*\n",
       " * Copyright (c) Facebook, Inc. and its affiliates. All Rights Reserved.\n",
       " */\n",
       "\n",
       "requirejs.config({\n",
       "  paths: {\n",
       "    plotly: ['https://cdn.plot.ly/plotly-latest.min'],\n",
       "  },\n",
       "});\n",
       "if (!window.Plotly) {\n",
       "  require(['plotly'], function(plotly) {\n",
       "    window.Plotly = plotly;\n",
       "  });\n",
       "}\n",
       "/*\n",
       " * Copyright (c) Facebook, Inc. and its affiliates. All Rights Reserved.\n",
       " */\n",
       "\n",
       "// helper functions used across multiple plots\n",
       "function rgb(rgb_array) {\n",
       "  return 'rgb(' + rgb_array.join() + ')';\n",
       "}\n",
       "\n",
       "function copy_and_reverse(arr) {\n",
       "  const copy = arr.slice();\n",
       "  copy.reverse();\n",
       "  return copy;\n",
       "}\n",
       "\n",
       "function axis_range(grid, is_log) {\n",
       "  return is_log ?\n",
       "    [Math.log10(Math.min(...grid)), Math.log10(Math.max(...grid))]:\n",
       "    [Math.min(...grid), Math.max(...grid)];\n",
       "}\n",
       "\n",
       "function relativize_data(f, sd, rel, arm_data, metric) {\n",
       "  // if relative, extract status quo & compute ratio\n",
       "  const f_final = rel === true ? [] : f;\n",
       "  const sd_final = rel === true ? []: sd;\n",
       "\n",
       "  if (rel === true) {\n",
       "    const f_sq = (\n",
       "      arm_data['in_sample'][arm_data['status_quo_name']]['y'][metric]\n",
       "    );\n",
       "    const sd_sq = (\n",
       "      arm_data['in_sample'][arm_data['status_quo_name']]['se'][metric]\n",
       "    );\n",
       "\n",
       "    for (let i = 0; i < f.length; i++) {\n",
       "      res = relativize(f[i], sd[i], f_sq, sd_sq);\n",
       "      f_final.push(100 * res[0]);\n",
       "      sd_final.push(100 * res[1]);\n",
       "    }\n",
       "  }\n",
       "\n",
       "  return [f_final, sd_final];\n",
       "}\n",
       "\n",
       "function relativize(m_t, sem_t, m_c, sem_c) {\n",
       "  r_hat = (\n",
       "    (m_t - m_c) / Math.abs(m_c) -\n",
       "    Math.pow(sem_c, 2) * m_t / Math.pow(Math.abs(m_c), 3)\n",
       "  );\n",
       "  variance = (\n",
       "    (Math.pow(sem_t, 2) + Math.pow((m_t / m_c * sem_c), 2)) /\n",
       "    Math.pow(m_c, 2)\n",
       "   )\n",
       "   return [r_hat, Math.sqrt(variance)];\n",
       "}\n",
       "</script>"
      ]
     },
     "metadata": {},
     "output_type": "display_data"
    },
    {
     "name": "stderr",
     "output_type": "stream",
     "text": [
      "[INFO 05-16 14:14:34] ipy_plotting: Injecting Plotly library into cell. Do not overwrite or delete cell.\n"
     ]
    },
    {
     "name": "stdout",
     "output_type": "stream",
     "text": [
      "Best Log Loss: 1.9394689840873656\n"
     ]
    },
    {
     "data": {
      "image/png": "[encoded data removed]",
      "text/plain": [
       "<Figure size 1440x288 with 1 Axes>"
      ]
     },
     "metadata": {},
     "output_type": "display_data"
    }
   ],
   "source": [
    "plt.style.use(\"ggplot\")\n",
    "init_notebook_plotting()\n",
    "best_objectives = np.array([[trial.objective_mean*100 for trial in experiment.trials.values()]])\n",
    "obj = list(np.maximum.accumulate(best_objectives, axis=1)[0])\n",
    "plt.figure(figsize=(20,4))\n",
    "plt.title(\"Model performance vs. # of iterations\")\n",
    "plt.plot(range(len(obj)), obj, linewidth=10)\n",
    "print(\"Best Log Loss: %s\" % train_and_score(best_parameters))"
   ]
  },
  {
   "cell_type": "code",
   "execution_count": 17,
   "metadata": {},
   "outputs": [
    {
     "data": {
      "text/html": [
       "<iframe src=https://ax.dev/tutorials/ width=900 height=350></iframe>"
      ],
      "text/plain": [
       "<IPython.core.display.HTML object>"
      ]
     },
     "execution_count": 17,
     "metadata": {},
     "output_type": "execute_result"
    }
   ],
   "source": [
    "from IPython.display import HTML\n",
    "HTML('<iframe src=https://ax.dev/tutorials/ width=900 height=350></iframe>')"
   ]
  },
  {
   "cell_type": "code",
   "execution_count": null,
   "metadata": {},
   "outputs": [],
   "source": []
  }
 ],
 "metadata": {
  "celltoolbar": "Slideshow",
  "kernelspec": {
   "display_name": "Python 3",
   "language": "python",
   "name": "python3"
  },
  "language_info": {
   "codemirror_mode": {
    "name": "ipython",
    "version": 3
   },
   "file_extension": ".py",
   "mimetype": "text/x-python",
   "name": "python",
   "nbconvert_exporter": "python",
   "pygments_lexer": "ipython3",
   "version": "3.7.3"
  }
 },
 "nbformat": 4,
 "nbformat_minor": 2
}
